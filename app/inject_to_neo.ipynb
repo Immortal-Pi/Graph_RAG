{
 "cells": [
  {
   "cell_type": "code",
   "execution_count": 2,
   "metadata": {},
   "outputs": [
    {
     "data": {
      "text/plain": [
       "AzureChatOpenAI(client=<openai.resources.chat.completions.Completions object at 0x00000279445A91C0>, async_client=<openai.resources.chat.completions.AsyncCompletions object at 0x00000279445D3340>, root_client=<openai.lib.azure.AzureOpenAI object at 0x00000279422C3970>, root_async_client=<openai.lib.azure.AsyncAzureOpenAI object at 0x00000279445A9220>, temperature=0.1, model_kwargs={}, openai_api_key=SecretStr('**********'), disabled_params={'parallel_tool_calls': None}, azure_endpoint='https://easttest123.openai.azure.com/openai/deployments/gpt-35-turbo/chat/completions?api-version=2023-03-15-preview', openai_api_version='2024-02-15-preview', openai_api_type='azure')"
      ]
     },
     "execution_count": 2,
     "metadata": {},
     "output_type": "execute_result"
    }
   ],
   "source": [
    "from langchain_groq import ChatGroq\n",
    "from langchain_openai import AzureChatOpenAI\n",
    "import os \n",
    "# llm=ChatGroq(\n",
    "#     groq_api_key=groq_api_key,\n",
    "#     model_name='Gemma2-9b-it'\n",
    "#     )\n",
    "llm=AzureChatOpenAI(\n",
    "    azure_deployment=os.getenv('AZURE_OPENAI_DEPLOYMENT_MODEL'),\n",
    "    api_version=os.getenv('AZURE_OpenAI_API_VERSION'),\n",
    "    temperature=0.1,\n",
    "\n",
    ")\n",
    "llm"
   ]
  },
  {
   "cell_type": "code",
   "execution_count": 10,
   "metadata": {},
   "outputs": [],
   "source": [
    "from langchain_community.graphs import Neo4jGraph\n",
    "graph=Neo4jGraph(url=os.getenv('NEO4J_URI_ONLINE'),\n",
    "                 username=os.getenv('NEO4J_USERNAME_ONLINE'),\n",
    "                 password=os.getenv('NEO4J_PASSWORD_ONLINE')\n",
    "                #  database=os.getenv('NEO4J_DATABASE')\n",
    "                 )"
   ]
  },
  {
   "cell_type": "code",
   "execution_count": 8,
   "metadata": {},
   "outputs": [],
   "source": [
    "import pandas as pd\n",
    "\n",
    "graph_data=pd.read_csv('./data/cureus/graph.csv',sep='|')"
   ]
  },
  {
   "cell_type": "code",
   "execution_count": 9,
   "metadata": {},
   "outputs": [
    {
     "data": {
      "text/html": [
       "<div>\n",
       "<style scoped>\n",
       "    .dataframe tbody tr th:only-of-type {\n",
       "        vertical-align: middle;\n",
       "    }\n",
       "\n",
       "    .dataframe tbody tr th {\n",
       "        vertical-align: top;\n",
       "    }\n",
       "\n",
       "    .dataframe thead th {\n",
       "        text-align: right;\n",
       "    }\n",
       "</style>\n",
       "<table border=\"1\" class=\"dataframe\">\n",
       "  <thead>\n",
       "    <tr style=\"text-align: right;\">\n",
       "      <th></th>\n",
       "      <th>node_1</th>\n",
       "      <th>node_2</th>\n",
       "      <th>edge</th>\n",
       "      <th>chunk_id</th>\n",
       "    </tr>\n",
       "  </thead>\n",
       "  <tbody>\n",
       "    <tr>\n",
       "      <th>0</th>\n",
       "      <td>mark zuckerberg</td>\n",
       "      <td>wikipedia</td>\n",
       "      <td>Mark Zuckerberg is mentioned in the Wikipedia ...</td>\n",
       "      <td>c907bd16ca9e42c291e3f3c00f6b7670</td>\n",
       "    </tr>\n",
       "    <tr>\n",
       "      <th>1</th>\n",
       "      <td>mark zuckerberg</td>\n",
       "      <td>facebook</td>\n",
       "      <td>Mark Zuckerberg is associated with Facebook.</td>\n",
       "      <td>c907bd16ca9e42c291e3f3c00f6b7670</td>\n",
       "    </tr>\n",
       "    <tr>\n",
       "      <th>2</th>\n",
       "      <td>mark zuckerberg</td>\n",
       "      <td>chan zuckerberg initiative</td>\n",
       "      <td>Mark Zuckerberg is involved with the Chan Zuck...</td>\n",
       "      <td>c907bd16ca9e42c291e3f3c00f6b7670</td>\n",
       "    </tr>\n",
       "    <tr>\n",
       "      <th>3</th>\n",
       "      <td>mark zuckerberg</td>\n",
       "      <td>the social network</td>\n",
       "      <td>Mark Zuckerberg is depicted in the movie 'The ...</td>\n",
       "      <td>c907bd16ca9e42c291e3f3c00f6b7670</td>\n",
       "    </tr>\n",
       "    <tr>\n",
       "      <th>4</th>\n",
       "      <td>mark zuckerberg</td>\n",
       "      <td>marriage and children</td>\n",
       "      <td>Mark Zuckerberg has a marriage and children.</td>\n",
       "      <td>c907bd16ca9e42c291e3f3c00f6b7670</td>\n",
       "    </tr>\n",
       "    <tr>\n",
       "      <th>...</th>\n",
       "      <td>...</td>\n",
       "      <td>...</td>\n",
       "      <td>...</td>\n",
       "      <td>...</td>\n",
       "    </tr>\n",
       "    <tr>\n",
       "      <th>325</th>\n",
       "      <td>terms of use</td>\n",
       "      <td>privacy policy</td>\n",
       "      <td>Terms of Use and Privacy Policy are legal docu...</td>\n",
       "      <td>849352f02f9043b5a14b80b0eda2cfe5</td>\n",
       "    </tr>\n",
       "    <tr>\n",
       "      <th>326</th>\n",
       "      <td>wikipedia</td>\n",
       "      <td>wikimedia foundation inc</td>\n",
       "      <td>Wikipedia is a registered trademark owned by t...</td>\n",
       "      <td>849352f02f9043b5a14b80b0eda2cfe5</td>\n",
       "    </tr>\n",
       "    <tr>\n",
       "      <th>327</th>\n",
       "      <td>wikipedia</td>\n",
       "      <td>privacy policy</td>\n",
       "      <td>Wikipedia has its own Privacy Policy that outl...</td>\n",
       "      <td>849352f02f9043b5a14b80b0eda2cfe5</td>\n",
       "    </tr>\n",
       "    <tr>\n",
       "      <th>328</th>\n",
       "      <td>wikipedia</td>\n",
       "      <td>about wikipedia</td>\n",
       "      <td>About Wikipedia provides information about the...</td>\n",
       "      <td>849352f02f9043b5a14b80b0eda2cfe5</td>\n",
       "    </tr>\n",
       "    <tr>\n",
       "      <th>329</th>\n",
       "      <td>wikipedia</td>\n",
       "      <td>disclaimers</td>\n",
       "      <td>Disclaimers on Wikipedia clarify the limitatio...</td>\n",
       "      <td>849352f02f9043b5a14b80b0eda2cfe5</td>\n",
       "    </tr>\n",
       "  </tbody>\n",
       "</table>\n",
       "<p>330 rows × 4 columns</p>\n",
       "</div>"
      ],
      "text/plain": [
       "              node_1                      node_2  \\\n",
       "0    mark zuckerberg                   wikipedia   \n",
       "1    mark zuckerberg                    facebook   \n",
       "2    mark zuckerberg  chan zuckerberg initiative   \n",
       "3    mark zuckerberg          the social network   \n",
       "4    mark zuckerberg       marriage and children   \n",
       "..               ...                         ...   \n",
       "325     terms of use              privacy policy   \n",
       "326        wikipedia    wikimedia foundation inc   \n",
       "327        wikipedia              privacy policy   \n",
       "328        wikipedia             about wikipedia   \n",
       "329        wikipedia                 disclaimers   \n",
       "\n",
       "                                                  edge  \\\n",
       "0    Mark Zuckerberg is mentioned in the Wikipedia ...   \n",
       "1         Mark Zuckerberg is associated with Facebook.   \n",
       "2    Mark Zuckerberg is involved with the Chan Zuck...   \n",
       "3    Mark Zuckerberg is depicted in the movie 'The ...   \n",
       "4         Mark Zuckerberg has a marriage and children.   \n",
       "..                                                 ...   \n",
       "325  Terms of Use and Privacy Policy are legal docu...   \n",
       "326  Wikipedia is a registered trademark owned by t...   \n",
       "327  Wikipedia has its own Privacy Policy that outl...   \n",
       "328  About Wikipedia provides information about the...   \n",
       "329  Disclaimers on Wikipedia clarify the limitatio...   \n",
       "\n",
       "                             chunk_id  \n",
       "0    c907bd16ca9e42c291e3f3c00f6b7670  \n",
       "1    c907bd16ca9e42c291e3f3c00f6b7670  \n",
       "2    c907bd16ca9e42c291e3f3c00f6b7670  \n",
       "3    c907bd16ca9e42c291e3f3c00f6b7670  \n",
       "4    c907bd16ca9e42c291e3f3c00f6b7670  \n",
       "..                                ...  \n",
       "325  849352f02f9043b5a14b80b0eda2cfe5  \n",
       "326  849352f02f9043b5a14b80b0eda2cfe5  \n",
       "327  849352f02f9043b5a14b80b0eda2cfe5  \n",
       "328  849352f02f9043b5a14b80b0eda2cfe5  \n",
       "329  849352f02f9043b5a14b80b0eda2cfe5  \n",
       "\n",
       "[330 rows x 4 columns]"
      ]
     },
     "execution_count": 9,
     "metadata": {},
     "output_type": "execute_result"
    }
   ],
   "source": [
    "graph_data "
   ]
  },
  {
   "cell_type": "code",
   "execution_count": 11,
   "metadata": {},
   "outputs": [],
   "source": [
    "from neo4j import GraphDatabase\n",
    "driver=GraphDatabase.driver(os.getenv('NEO4J_URI_ONLINE'),auth=(os.getenv('NEO4J_USERNAME_ONLINE'),os.getenv('NEO4J_PASSWORD_ONLINE')))\n",
    "def insert_data_to_neo4j(dataframe):\n",
    "    with driver.session() as session:\n",
    "        for _,row in dataframe.iterrows():\n",
    "            node1=row['node_1']\n",
    "            node2=row['node_2']\n",
    "            edge_description=row['edge']\n",
    "\n",
    "            query=\"\"\" \n",
    "                MERGE (n1:Entity {name: $node1})\n",
    "                MERGE (n2:Entity {name: $node2})\n",
    "                MERGE (n1)-[:RELATION {description: $edge_description}]->(n2)\n",
    "            \"\"\"\n",
    "\n",
    "            session.run(query,node1=node1,node2=node2,edge_description=edge_description)\n",
    "insert_data_to_neo4j(graph_data)"
   ]
  },
  {
   "cell_type": "code",
   "execution_count": 12,
   "metadata": {},
   "outputs": [
    {
     "data": {
      "text/plain": [
       "GraphCypherQAChain(verbose=True, graph=<langchain_community.graphs.neo4j_graph.Neo4jGraph object at 0x0000027949BB68E0>, cypher_generation_chain=LLMChain(verbose=False, prompt=PromptTemplate(input_variables=['question', 'schema'], input_types={}, partial_variables={}, template='Task:Generate Cypher statement to query a graph database.\\nInstructions:\\nUse only the provided relationship types and properties in the schema.\\nDo not use any other relationship types or properties that are not provided.\\nSchema:\\n{schema}\\nNote: Do not include any explanations or apologies in your responses.\\nDo not respond to any questions that might ask anything else than for you to construct a Cypher statement.\\nDo not include any text except the generated Cypher statement.\\n\\nThe question is:\\n{question}'), llm=AzureChatOpenAI(client=<openai.resources.chat.completions.Completions object at 0x00000279445A91C0>, async_client=<openai.resources.chat.completions.AsyncCompletions object at 0x00000279445D3340>, root_client=<openai.lib.azure.AzureOpenAI object at 0x00000279422C3970>, root_async_client=<openai.lib.azure.AsyncAzureOpenAI object at 0x00000279445A9220>, temperature=0.1, model_kwargs={}, openai_api_key=SecretStr('**********'), disabled_params={'parallel_tool_calls': None}, azure_endpoint='https://easttest123.openai.azure.com/openai/deployments/gpt-35-turbo/chat/completions?api-version=2023-03-15-preview', openai_api_version='2024-02-15-preview', openai_api_type='azure'), output_parser=StrOutputParser(), llm_kwargs={}), qa_chain=LLMChain(verbose=False, prompt=PromptTemplate(input_variables=['context', 'question'], input_types={}, partial_variables={}, template=\"You are an assistant that helps to form nice and human understandable answers.\\nThe information part contains the provided information that you must use to construct an answer.\\nThe provided information is authoritative, you must never doubt it or try to use your internal knowledge to correct it.\\nMake the answer sound as a response to the question. Do not mention that you based the result on the given information.\\nHere is an example:\\n\\nQuestion: Which managers own Neo4j stocks?\\nContext:[manager:CTL LLC, manager:JANE STREET GROUP LLC]\\nHelpful Answer: CTL LLC, JANE STREET GROUP LLC owns Neo4j stocks.\\n\\nFollow this example when generating answers.\\nIf the provided information is empty, say that you don't know the answer.\\nInformation:\\n{context}\\n\\nQuestion: {question}\\nHelpful Answer:\"), llm=AzureChatOpenAI(client=<openai.resources.chat.completions.Completions object at 0x00000279445A91C0>, async_client=<openai.resources.chat.completions.AsyncCompletions object at 0x00000279445D3340>, root_client=<openai.lib.azure.AzureOpenAI object at 0x00000279422C3970>, root_async_client=<openai.lib.azure.AsyncAzureOpenAI object at 0x00000279445A9220>, temperature=0.1, model_kwargs={}, openai_api_key=SecretStr('**********'), disabled_params={'parallel_tool_calls': None}, azure_endpoint='https://easttest123.openai.azure.com/openai/deployments/gpt-35-turbo/chat/completions?api-version=2023-03-15-preview', openai_api_version='2024-02-15-preview', openai_api_type='azure'), output_parser=StrOutputParser(), llm_kwargs={}), graph_schema='Node properties are the following:\\n\\nRelationship properties are the following:\\n\\nThe relationships are the following:\\n', allow_dangerous_requests=True)"
      ]
     },
     "execution_count": 12,
     "metadata": {},
     "output_type": "execute_result"
    }
   ],
   "source": [
    "from langchain.chains import GraphCypherQAChain\n",
    "chain=GraphCypherQAChain.from_llm(llm=llm,graph=graph,verbose=True,allow_dangerous_requests=True)\n",
    "chain"
   ]
  },
  {
   "cell_type": "code",
   "execution_count": 15,
   "metadata": {},
   "outputs": [
    {
     "name": "stdout",
     "output_type": "stream",
     "text": [
      "\n",
      "\n",
      "\u001b[1m> Entering new GraphCypherQAChain chain...\u001b[0m\n"
     ]
    },
    {
     "name": "stderr",
     "output_type": "stream",
     "text": [
      "Received notification from DBMS server: {severity: WARNING} {code: Neo.ClientNotification.Statement.UnknownRelationshipTypeWarning} {category: UNRECOGNIZED} {title: The provided relationship type is not in the database.} {description: One of the relationship types in your query is not available in the database, make sure you didn't misspell it or that the label is available when you run this statement in your application (the missing relationship type is: FOUNDED)} {position: line: 1, column: 21, offset: 20} for query: \"MATCH (p:Person)-[r:FOUNDED]->(c:Company {name: 'Facebook'})\\nRETURN r.start_date\"\n",
      "Received notification from DBMS server: {severity: WARNING} {code: Neo.ClientNotification.Statement.UnknownLabelWarning} {category: UNRECOGNIZED} {title: The provided label is not in the database.} {description: One of the labels in your query is not available in the database, make sure you didn't misspell it or that the label is available when you run this statement in your application (the missing label name is: Person)} {position: line: 1, column: 10, offset: 9} for query: \"MATCH (p:Person)-[r:FOUNDED]->(c:Company {name: 'Facebook'})\\nRETURN r.start_date\"\n",
      "Received notification from DBMS server: {severity: WARNING} {code: Neo.ClientNotification.Statement.UnknownLabelWarning} {category: UNRECOGNIZED} {title: The provided label is not in the database.} {description: One of the labels in your query is not available in the database, make sure you didn't misspell it or that the label is available when you run this statement in your application (the missing label name is: Company)} {position: line: 1, column: 34, offset: 33} for query: \"MATCH (p:Person)-[r:FOUNDED]->(c:Company {name: 'Facebook'})\\nRETURN r.start_date\"\n",
      "Received notification from DBMS server: {severity: WARNING} {code: Neo.ClientNotification.Statement.UnknownPropertyKeyWarning} {category: UNRECOGNIZED} {title: The provided property key is not in the database} {description: One of the property names in your query is not available in the database, make sure you didn't misspell it or that the label is available when you run this statement in your application (the missing property name is: start_date)} {position: line: 2, column: 10, offset: 70} for query: \"MATCH (p:Person)-[r:FOUNDED]->(c:Company {name: 'Facebook'})\\nRETURN r.start_date\"\n"
     ]
    },
    {
     "name": "stdout",
     "output_type": "stream",
     "text": [
      "Generated Cypher:\n",
      "\u001b[32;1m\u001b[1;3mMATCH (p:Person)-[r:FOUNDED]->(c:Company {name: 'Facebook'})\n",
      "RETURN r.start_date\u001b[0m\n",
      "Full Context:\n",
      "\u001b[32;1m\u001b[1;3m[]\u001b[0m\n",
      "\n",
      "\u001b[1m> Finished chain.\u001b[0m\n"
     ]
    },
    {
     "data": {
      "text/plain": [
       "{'query': 'when did he start facebook',\n",
       " 'result': \"I don't know the answer to that question.\"}"
      ]
     },
     "execution_count": 15,
     "metadata": {},
     "output_type": "execute_result"
    }
   ],
   "source": [
    "response=chain.invoke({'query':'when did he start facebook'})\n",
    "response"
   ]
  },
  {
   "cell_type": "code",
   "execution_count": null,
   "metadata": {},
   "outputs": [],
   "source": []
  }
 ],
 "metadata": {
  "kernelspec": {
   "display_name": "pytorch",
   "language": "python",
   "name": "python3"
  },
  "language_info": {
   "codemirror_mode": {
    "name": "ipython",
    "version": 3
   },
   "file_extension": ".py",
   "mimetype": "text/x-python",
   "name": "python",
   "nbconvert_exporter": "python",
   "pygments_lexer": "ipython3",
   "version": "3.9.19"
  }
 },
 "nbformat": 4,
 "nbformat_minor": 2
}
