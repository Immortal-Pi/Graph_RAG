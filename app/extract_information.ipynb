{
 "cells": [
  {
   "cell_type": "code",
   "execution_count": 1,
   "metadata": {},
   "outputs": [
    {
     "name": "stderr",
     "output_type": "stream",
     "text": [
      "USER_AGENT environment variable not set, consider setting it to identify your requests.\n"
     ]
    },
    {
     "name": "stdout",
     "output_type": "stream",
     "text": [
      "\n",
      "\n",
      "ERROR ### Here is the buggy response:  ChatCompletion(id='chatcmpl-ANXGWWiyUzxKS90Lma1kNFDlNxnd6', choices=[Choice(finish_reason='length', index=0, logprobs=None, message=ChatCompletionMessage(content='[\\n   {\\n       \"node_1\": \"Elon Reeve Musk\",\\n       \"node_2\": \"SpaceX\",\\n       \"edge\": \"Elon Reeve Musk is known for his key role in the space company SpaceX.\"\\n   },\\n   {\\n       \"node_1\": \"Elon Reeve Musk\",\\n       \"node_2\": \"Tesla Inc\",\\n       \"edge\": \"Elon Reeve Musk is known for his key role in the automotive company Tesla Inc.\"\\n   },\\n   {\\n       \"node_1\": \"Elon Reeve Musk\",\\n       \"node_2\": \"X Corp\",\\n       \"edge\": \"Elon Reeve Musk owns X Corp, the company that operates the social media platform X (formerly known as Twitter).\"\\n   },\\n   {\\n       \"node_1\": \"Elon Reeve Musk\",\\n       \"node_2\": \"Boring Company\",\\n       \"edge\": \"Elon Reeve Musk played a role in the founding of the Boring Company.\"\\n   },\\n   {\\n       \"node_1\": \"Elon Reeve Musk\",\\n       \"node_2\": \"xAI\",\\n       \"edge\": \"Elon Reeve Musk was involved in the founding of xAI', refusal=None, role='assistant', audio=None, function_call=None, tool_calls=None), content_filter_results={'hate': {'filtered': False, 'severity': 'safe'}, 'protected_material_code': {'filtered': False, 'detected': False}, 'protected_material_text': {'filtered': False, 'detected': False}, 'self_harm': {'filtered': False, 'severity': 'safe'}, 'sexual': {'filtered': False, 'severity': 'safe'}, 'violence': {'filtered': False, 'severity': 'safe'}})], created=1730172780, model='gpt-35-turbo', object='chat.completion', service_tier=None, system_fingerprint=None, usage=CompletionUsage(completion_tokens=250, prompt_tokens=919, total_tokens=1169, completion_tokens_details=None, prompt_tokens_details=None), prompt_filter_results=[{'prompt_index': 0, 'content_filter_results': {'hate': {'filtered': False, 'severity': 'safe'}, 'jailbreak': {'filtered': False, 'detected': False}, 'self_harm': {'filtered': False, 'severity': 'safe'}, 'sexual': {'filtered': False, 'severity': 'safe'}, 'violence': {'filtered': False, 'severity': 'safe'}}}]) \n",
      "\n",
      "\n"
     ]
    }
   ],
   "source": [
    "import os\n",
    "import sys\n",
    "from langchain_community.document_loaders import WebBaseLoader\n",
    "from langchain_openai import AzureChatOpenAI\n",
    "import re \n",
    "import os\n",
    "from langchain_community.graphs import Neo4jGraph\n",
    "import dotenv\n",
    "import pandas as pd\n",
    "\n",
    "sys.path.append(os.path.abspath(\"..\"))\n",
    "from helpers.df_helpers import documents2Dataframe"
   ]
  },
  {
   "cell_type": "markdown",
   "metadata": {},
   "source": [
    "# connection to Azure and Neo4j"
   ]
  },
  {
   "cell_type": "code",
   "execution_count": 2,
   "metadata": {},
   "outputs": [
    {
     "data": {
      "text/plain": [
       "AzureChatOpenAI(client=<openai.resources.chat.completions.Completions object at 0x000001A09D36F850>, async_client=<openai.resources.chat.completions.AsyncCompletions object at 0x000001A09D37B9D0>, root_client=<openai.lib.azure.AzureOpenAI object at 0x000001A0990CFCD0>, root_async_client=<openai.lib.azure.AsyncAzureOpenAI object at 0x000001A09D36F8B0>, temperature=0.0, model_kwargs={}, openai_api_key=SecretStr('**********'), disabled_params={'parallel_tool_calls': None}, azure_endpoint='https://easttest123.openai.azure.com/openai/deployments/gpt-35-turbo/chat/completions?api-version=2023-03-15-preview', deployment_name='gpt-35-turbo', openai_api_version='2024-02-15-preview', openai_api_type='azure')"
      ]
     },
     "execution_count": 2,
     "metadata": {},
     "output_type": "execute_result"
    }
   ],
   "source": [
    "from langchain_community.graphs import Neo4jGraph\n",
    "import dotenv\n",
    "import os\n",
    "dotenv.load_dotenv()\n",
    "graph=Neo4jGraph(url=os.getenv('NEO4J_URI_ONLINE'),\n",
    "                 username=os.getenv('NEO4J_USERNAME_ONLINE'),\n",
    "                 password=os.getenv('NEO4J_PASSWORD_ONLINE')\n",
    "                #  database=os.getenv('NEO4J_DATABASE')\n",
    ")\n",
    "\n",
    "llm=AzureChatOpenAI(\n",
    "    azure_deployment=os.getenv('AZURE_OPENAI_DEPLOYMENT_MODEL'),\n",
    "    api_version=os.getenv('AZURE_OpenAI_API_VERSION'),\n",
    "    temperature=0,\n",
    ")\n",
    "llm"
   ]
  },
  {
   "cell_type": "markdown",
   "metadata": {},
   "source": [
    "# load large datasets i.e. URLS "
   ]
  },
  {
   "cell_type": "code",
   "execution_count": 3,
   "metadata": {},
   "outputs": [],
   "source": [
    "url_input=(\"https://en.wikipedia.org/wiki/Satoshi_Nakamoto\")\n",
    "loader=WebBaseLoader([url_input])\n",
    "data=loader.load().pop().page_content"
   ]
  },
  {
   "cell_type": "code",
   "execution_count": 4,
   "metadata": {},
   "outputs": [],
   "source": [
    "# data=\"\"\" \n",
    "# A train (from Old French trahiner, from Latin trahere, \"to pull, to draw\"[1]) is a series of connected vehicles that run along a railway track and transport people or freight. Trains are typically pulled or pushed by locomotives (often known simply as \"engines\"), though some are self-propelled, such as multiple units or railcars. Passengers and cargo are carried in railroad cars, also known as wagons or carriages. Trains are designed to a certain gauge, or distance between rails. Most trains operate on steel tracks with steel wheels, the low friction of which makes them more efficient than other forms of transport.\n",
    "\n",
    "# Trains have their roots in wagonways, which used railway tracks and were powered by horses or pulled by cables. Following the invention of the steam locomotive in the United Kingdom in 1802, trains rapidly spread around the world, allowing freight and passengers to move over land faster and cheaper than ever possible before. Rapid transit and trams were first built in the late 1800s to transport large numbers of people in and around cities. Beginning in the 1920s, and accelerating following World War II, diesel and electric locomotives replaced steam as the means of motive power. Following the development of cars, trucks, and extensive networks of highways which offered greater mobility, as well as faster airplanes, trains declined in importance and market share, and many rail lines were abandoned. The spread of buses led to the closure of many rapid transit and tram systems during this time as well.\n",
    "\n",
    "# Since the 1970s, governments, environmentalists, and train advocates have promoted increased use of trains due to their greater fuel efficiency and lower greenhouse gas emissions compared to other modes of land transport. High-speed rail, first built in the 1960s, has proven competitive with cars and planes over short to medium distances. Commuter rail has grown in importance since the 1970s as an alternative to congested highways and a means to promote development, as has light rail in the 21st century. Freight trains remain important for the transport of bulk commodities such as coal and grain, as well as being a means of reducing road traffic congestion by freight trucks.\n",
    "\n",
    "# While conventional trains operate on relatively flat tracks with two rails, a number of specialized trains exist which are significantly different in their mode of operation. Monorails operate on a single rail, while funiculars and rack railways are uniquely designed to traverse steep slopes. Experimental trains such as high speed maglevs, which use magnetic levitation to float above a guideway, are under development in the 2020s and offer higher speeds than even the fastest conventional trains. Trains which use alternative fuels such as natural gas and hydrogen are another 21st-century development.\n",
    "\n",
    "\n",
    "# \"\"\""
   ]
  },
  {
   "cell_type": "code",
   "execution_count": 5,
   "metadata": {},
   "outputs": [
    {
     "data": {
      "text/plain": [
       "[Document(metadata={}, page_content='Satoshi Nakamoto WikipediaJump to contentMain menuMain menumove to sidebarhideNavigationMain pageContentsCurrent eventsRandom articleAbout WikipediaContact usContributeHelpLearn to editCommunity portalRecent changesUpload fileSearchSearchDonateAppearanceCreate accountLog inPersonal tools Create account Log inPages for logged out editors learn moreContributionsTalkContentsmove to sidebarhideTop1Development of bitcoin2Characteristics and identityToggle Characteristics and identity subsection21Possible identities211Hal Finney212Dorian Nakamoto213Nick Szabo214Craig Wright215Other candidates3In popular culture4ReferencesToggle the table of contentsSatoshi Nakamoto52 languagesAfrikaansAzrbaycanca BnlmgCataletinaDanskDeutschEestiEspaolEsperantoFranaisHausaBahasa IndonesiaItalianoKiswahiliKurdLatvieuLombardMagyar NederlandsNorsk bokmlOccitanOzbekcha PolskiPortugusRomnShqipSimple EnglishSloveninaSuomiTagalogTrke UyghurcheTing VitEdit linksArticleTalkEnglishReadView sourceView historyToolsToolsmove to sidebarhideActionsReadView sourceView historyGeneralWhat links hereRelated changesUpload fileSpecial pagesPermanent linkPage informationCite this pageGet shortened URLDownload QR codePrintexportDownload as PDFPrintable versionIn other projectsWikimedia CommonsWikiquoteWikidata itemAppearancemove to sidebarhideFrom Wikipedia the free encyclopediaPseudonym of the designer and developer of BitcoinSatoshi NakamotoA statue in Budapest dedicated to Satoshi NakamotoKnownforInventing bitcoin implementing the first blockchainScientific careerFieldsDigital currencies computer science cryptographySatoshi Nakamoto is the name used by the presumed pseudonymous1234 person or persons who developed bitcoin authored the bitcoin white paper and created and deployed bitcoins original reference implementation5 As part of the implementation Nakamoto also devised the first blockchain database6 Nakamoto was active in the development of bitcoin until December 20107There has been widespread speculation about Nakamotos true identity with various people posited as the person or persons behind the name Though Nakamotos name is Japanese and inscribed as a man living in Japan8 most of the speculation has involved software and cryptography experts in the United States or EuropeDevelopment of bitcoinSatoshi Nakamoto message embedded in the coinbase of the first blockNakamoto said that the work of writing bitcoins code began in the second quarter of 20079 On 18 August 2008 he or a colleague registered the domain name bitcoinorg10 and created a web site at that address On 31 October Nakamoto published a white paper on the cryptography mailing list at metzdowdcom describing a digital cryptocurrency titled Bitcoin A PeertoPeer Electronic Cash System111213On 9 January 2009 Nakamoto released version 01 of the bitcoin software on SourceForge and launched the network by defining the genesis block of bitcoin block number 0 which had a reward of 50 bitcoins1415716 Embedded in the coinbase transaction'),\n",
       " Document(metadata={}, page_content='Bitcoin A PeertoPeer Electronic Cash System111213On 9 January 2009 Nakamoto released version 01 of the bitcoin software on SourceForge and launched the network by defining the genesis block of bitcoin block number 0 which had a reward of 50 bitcoins1415716 Embedded in the coinbase transaction of this block is the text The Times 03Jan2009 Chancellor on brink of second bailout for banks17 citing a headline in the UK newspaper The Times published on that date18 This note has been interpreted as both a timestamp and a derisive comment on the alleged instability caused by fractionalreserve banking1918Nakamoto continued to collaborate with other developers on bitcoins software until mid2010 making all modifications to the source code himself He then gave control of the source code repository and network alert key to Gavin Andresen20 and transferred several related domains to various prominent members of the bitcoin community As of 2021 Nakamoto is estimated to own between 750000 and 1100000 bitcoin In November 2021 when bitcoin reached a value of over 68000 his net worth would have been up to 73 billion making him the 15thrichest person in the world at the time21Characteristics and identityNakamoto has never revealed personal information when discussing technical matters7 but has at times commented on banking and fractionalreserve banking Some speculated he was unlikely to be Japanese due to his nativelevel use of English7On his P2P Foundation profile as of 2012 Nakamoto claimed to be a 37yearold man who lived in Japan8 he cited his date of birth as 5 April 197522 Some theorize that the date referenced the signing of Executive Order 6102 which prohibited the ownership of gold coins in the United States and 1975 as the year it was repealed Author Dominic Frisby categorized the date as an obscure but brilliant reference and as extremely political22Some have considered that Nakamoto might be a team of people Dan Kaminsky a security researcher who read bitcoins code23 said that Nakamoto was either a team of people or a genius24 Laszlo Hanyecz a developer who had emailed Nakamoto had the feeling the code was too welldesigned for one person7 Andresen has said of Nakamotos code He was a brilliant coder but it was quirky25The use of British English in both source code comments and forum postings such as the expression bloody hard terms such as flat and maths and the spellings grey and colour17 led to speculation that Nakamoto or at least one person in a consortium claiming to be him was of Commonwealth origin71124 The reference to Londons Times newspaper in the first bitcoin block suggested to some a particular interest in the British government1726Stefan Thomas a Swiss software engineer and active community member graphed the timestamps of each of Nakamotos bitcoin forum posts more than 500 the chart showed a steep decline to almost none between 5 am and 11 am Greenwich Mean Time midnight to 6 am Eastern Standard Time This was between 2 pm and 8 pm Japan'),\n",
       " Document(metadata={}, page_content='a Swiss software engineer and active community member graphed the timestamps of each of Nakamotos bitcoin forum posts more than 500 the chart showed a steep decline to almost none between 5 am and 11 am Greenwich Mean Time midnight to 6 am Eastern Standard Time This was between 2 pm and 8 pm Japan Standard Time suggesting an unusual sleep pattern for someone living in Japan As this pattern held even on Saturdays and Sundays it suggested that Nakamoto was consistently asleep at this time7Possible identitiesNakamotos identity is unknown27 but speculations have focussed on various cryptography and computer science experts most of nonJapanese descent7 Bitcoiners and cryptographers have suggested various methods by which a person could prove their identity as Nakamoto such as moving the earliest bitcoins mined or signing a message with the key associated with the first bitcoins28 On the other hand a denial of being Nakamoto is very difficult to confirmHal FinneyHal Finney 4 May 1956 28 August 2014 was a prebitcoin cryptographic pioneer and the first person other than Nakamoto himself to use the software file bug reports and make improvements29 He also lived a few blocks from a man named Dorian Satoshi Nakamoto according to Forbes journalist Andy Greenberg30 Greenberg asked the writing analysis consultancy Juola Associates to compare a sample of Finneys writing to Nakamotos and found it to be the closest resemblance they had yet come across including when compared to candidates suggested by Newsweek Fast Company The New Yorker Ted Nelson and Skye Grey30 Greenberg theorized that Finney may have been a ghostwriter on Nakamotos behalf or that he simply used his neighbors identity as a drop or patsy whose personal information is used to hide online exploits but after meeting Finney seeing the emails between him and Nakamoto and his bitcoin wallets history including the first transaction from Nakamoto to him which he forgot to pay back and hearing his denial Greenberg concluded that Finney was telling the truth Juola Associates also found that Nakamotos emails to Finney more closely resemble Nakamotos other writings than Finneys do Finneys fellow extropian and sometime coblogger Robin Hanson assigned a subjective probability of at least 15 that Hal was more involved than hes said before further evidence suggested that was not the case31Dorian NakamotoIn a highprofile March 2014 article in Newsweek32 journalist Leah McGrath Goodman identified Dorian Prentice Satoshi Nakamoto a JapaneseAmerican man living in California whose birth name is Satoshi Nakamoto323334 as the Nakamoto in question Besides his name Goodman pointed to a number of facts that circumstantially suggested he was the bitcoin inventor32 Trained as a physicist at California State Polytechnic University Pomona Nakamoto worked as a systems engineer on classified defense projects and computer engineer for technology and financial information services companies According to his daughter Nakamoto'),\n",
       " Document(metadata={}, page_content='suggested he was the bitcoin inventor32 Trained as a physicist at California State Polytechnic University Pomona Nakamoto worked as a systems engineer on classified defense projects and computer engineer for technology and financial information services companies According to his daughter Nakamoto was laid off twice in the early 1990s turned libertarian and encouraged her to start her own business not under the governments thumb The articles seemingly biggest piece of evidence was that when Goodman asked him about bitcoin during a brief inperson interview Nakamoto seemed to confirm his identity as its founder saying I am no longer involved in that and I cannot discuss it Its been turned over to other people They are in charge of it now I no longer have any connection3235The articles publication led to a flurry of media interest including reporters camping out near Nakamotos house and chasing him by car when he drove to an interview36 Later that day the pseudonymous Nakamotos P2P Foundation account posted its first message in five years I am not Dorian Nakamoto3738 In a subsequent interview Nakamoto denied all connection to bitcoin saying he had never heard of it before and that he had misinterpreted Goodmans question as about his previous work for military contractors much of which was classified39 In a Reddit askmeanything interview he said he had misinterpreted Goodmans question as related to his work for Citibank40 In September the P2P Foundation account posted another message saying it had been hacked raising questions over the authenticity of the message six months earlier4142Nick SzaboIn December 2013 blogger Skye Grey linked Nick Szabo to the bitcoin white paper using stylometric analysis434445 Szabo is a decentralized currency enthusiast and published a paper on bit gold one of bitcoins precursors He is known to have been interested in using pseudonyms in the 1990s46 In a May 2011 article Szabo said of bitcoins creator Myself Wei Dai and Hal Finney were the only people I know of who liked the idea or in Dais case his related idea enough to pursue it to any significant extent until Nakamoto assuming Nakamoto is not really Finney or Dai47Financial author Dominic Frisby provides much circumstantial evidence but as he admits no proof that Nakamoto is Szabo48 Szabo has denied being Nakamoto In a July 2014 email to Frisby he wrote Thanks for letting me know Im afraid you got it wrong doxing me as Satoshi but Im used to it49 Nathaniel Popper wrote in The New York Times that the most convincing evidence pointed to a reclusive American man of Hungarian descent named Nick Szabo50Craig WrightSee also Craig Steven Wright BitcoinOn 8 December 2015 Wired wrote that Craig Steven Wright an Australian academic either invented bitcoin or is a brilliant hoaxer who very badly wants us to believe he did51 Wright took down his Twitter account and neither he nor his exwife responded to press inquiries The same day Gizmodo published a story with evidence')]"
      ]
     },
     "execution_count": 5,
     "metadata": {},
     "output_type": "execute_result"
    }
   ],
   "source": [
    "## clean the data\n",
    "from helpers.clean_data import clean_text\n",
    "from langchain_core.documents import Document\n",
    "from langchain.text_splitter import RecursiveCharacterTextSplitter\n",
    "\n",
    "data=clean_text(data)\n",
    "documents=[Document(page_content=data)]\n",
    "\n",
    "# split the data into chunks \n",
    "splitter=RecursiveCharacterTextSplitter(chunk_size=3000,chunk_overlap=300)\n",
    "smaller_doc=splitter.split_documents(documents)\n",
    "smaller_doc[:4]\n"
   ]
  },
  {
   "cell_type": "code",
   "execution_count": 6,
   "metadata": {},
   "outputs": [
    {
     "data": {
      "text/html": [
       "<div>\n",
       "<style scoped>\n",
       "    .dataframe tbody tr th:only-of-type {\n",
       "        vertical-align: middle;\n",
       "    }\n",
       "\n",
       "    .dataframe tbody tr th {\n",
       "        vertical-align: top;\n",
       "    }\n",
       "\n",
       "    .dataframe thead th {\n",
       "        text-align: right;\n",
       "    }\n",
       "</style>\n",
       "<table border=\"1\" class=\"dataframe\">\n",
       "  <thead>\n",
       "    <tr style=\"text-align: right;\">\n",
       "      <th></th>\n",
       "      <th>text</th>\n",
       "      <th>chunk_id</th>\n",
       "    </tr>\n",
       "  </thead>\n",
       "  <tbody>\n",
       "    <tr>\n",
       "      <th>0</th>\n",
       "      <td>Satoshi Nakamoto WikipediaJump to contentMain ...</td>\n",
       "      <td>e2c3c8b6a11344c29ba0d779e5262151</td>\n",
       "    </tr>\n",
       "    <tr>\n",
       "      <th>1</th>\n",
       "      <td>Bitcoin A PeertoPeer Electronic Cash System111...</td>\n",
       "      <td>096bf5845d6f4e24bea060700929a2eb</td>\n",
       "    </tr>\n",
       "    <tr>\n",
       "      <th>2</th>\n",
       "      <td>a Swiss software engineer and active community...</td>\n",
       "      <td>f8b0c0be2bc14ec2aeb283168255f6dc</td>\n",
       "    </tr>\n",
       "    <tr>\n",
       "      <th>3</th>\n",
       "      <td>suggested he was the bitcoin inventor32 Traine...</td>\n",
       "      <td>10c8a7ce062f48b08045bc01e8317e0b</td>\n",
       "    </tr>\n",
       "    <tr>\n",
       "      <th>4</th>\n",
       "      <td>wrote that Craig Steven Wright an Australian a...</td>\n",
       "      <td>309373f83d6e449cbb9ef0d00ad3c57d</td>\n",
       "    </tr>\n",
       "  </tbody>\n",
       "</table>\n",
       "</div>"
      ],
      "text/plain": [
       "                                                text  \\\n",
       "0  Satoshi Nakamoto WikipediaJump to contentMain ...   \n",
       "1  Bitcoin A PeertoPeer Electronic Cash System111...   \n",
       "2  a Swiss software engineer and active community...   \n",
       "3  suggested he was the bitcoin inventor32 Traine...   \n",
       "4  wrote that Craig Steven Wright an Australian a...   \n",
       "\n",
       "                           chunk_id  \n",
       "0  e2c3c8b6a11344c29ba0d779e5262151  \n",
       "1  096bf5845d6f4e24bea060700929a2eb  \n",
       "2  f8b0c0be2bc14ec2aeb283168255f6dc  \n",
       "3  10c8a7ce062f48b08045bc01e8317e0b  \n",
       "4  309373f83d6e449cbb9ef0d00ad3c57d  "
      ]
     },
     "execution_count": 6,
     "metadata": {},
     "output_type": "execute_result"
    }
   ],
   "source": [
    "## creating dataframes of chunks \n",
    "from helpers.df_helpers import documents2Dataframe, df2Graph,df2ConceptsList,concepts2Df,graph2Df\n",
    "\n",
    "df=documents2Dataframe(smaller_doc)\n",
    "df.head(5)\n"
   ]
  },
  {
   "cell_type": "markdown",
   "metadata": {},
   "source": [
    "# extract concepts"
   ]
  },
  {
   "cell_type": "code",
   "execution_count": 8,
   "metadata": {},
   "outputs": [
    {
     "name": "stdout",
     "output_type": "stream",
     "text": [
      "0     [{'node_1': 'Satoshi Nakamoto', 'node_2': 'Bit...\n",
      "1     [{'node_1': 'Bitcoin', 'node_2': 'Electronic C...\n",
      "2     [{'node_1': 'Swiss software engineer', 'node_2...\n",
      "3     [{'node_1': 'bitcoin inventor', 'node_2': 'Nak...\n",
      "4     [{'node_1': 'Craig Steven Wright', 'node_2': '...\n",
      "5     [{'node_1': 'Wrights claim', 'node_2': 'Satosh...\n",
      "6     [{'node_1': 'HBO documentary', 'node_2': 'Cull...\n",
      "7     [{'node_1': 'Nakamoto Satoshi', 'node_2': 'Bit...\n",
      "8     [{'node_1': 'Nakamotos Neighbor', 'node_2': 'B...\n",
      "9     [{'node_1': 'Nick Szabo', 'node_2': 'The Enigm...\n",
      "10    [{'node_1': 'impersonation', 'node_2': 'seriou...\n",
      "11    [{'node_1': 'Developer', 'node_2': 'Peter Todd...\n",
      "dtype: object\n"
     ]
    }
   ],
   "source": [
    "from pathlib import Path\n",
    "import numpy as np \n",
    "from helpers.df_helpers import documents2Dataframe, df2Graph,df2ConceptsList,concepts2Df,graph2Df\n",
    "\n",
    "\n",
    "regenerate=True\n",
    "data_dir='cureus'\n",
    "outputdirectory=Path(f'./data/{data_dir}')\n",
    "inputdirectory=Path(f'./data/{data_dir}')\n",
    "if regenerate:\n",
    "    \n",
    "    concepts_list=df2Graph(df,model='gpt-35-turbo')\n",
    "    df1=graph2Df(concepts_list)\n",
    "    \n",
    "    if not os.path.exists(outputdirectory):\n",
    "        os.makedirs(outputdirectory)\n",
    "\n",
    "    df1.to_csv(outputdirectory/'graph.csv',sep='|',index=False)\n",
    "    df.to_csv(outputdirectory/'chunks.csv',sep='|',index=False)\n",
    "else:\n",
    "    df1=pd.read_csv(outputdirectory/'graph.csv',sep='|')\n",
    "df1.replace('',np.nan,inplace=True)\n",
    "df1.dropna(subset=['node_1','node_2','edge'],inplace=True)\n",
    "df1['count']=1\n",
    "\n"
   ]
  },
  {
   "cell_type": "code",
   "execution_count": 9,
   "metadata": {},
   "outputs": [
    {
     "data": {
      "text/html": [
       "<div>\n",
       "<style scoped>\n",
       "    .dataframe tbody tr th:only-of-type {\n",
       "        vertical-align: middle;\n",
       "    }\n",
       "\n",
       "    .dataframe tbody tr th {\n",
       "        vertical-align: top;\n",
       "    }\n",
       "\n",
       "    .dataframe thead th {\n",
       "        text-align: right;\n",
       "    }\n",
       "</style>\n",
       "<table border=\"1\" class=\"dataframe\">\n",
       "  <thead>\n",
       "    <tr style=\"text-align: right;\">\n",
       "      <th></th>\n",
       "      <th>node_1</th>\n",
       "      <th>node_2</th>\n",
       "      <th>edge</th>\n",
       "      <th>chunk_id</th>\n",
       "      <th>count</th>\n",
       "    </tr>\n",
       "  </thead>\n",
       "  <tbody>\n",
       "    <tr>\n",
       "      <th>0</th>\n",
       "      <td>satoshi nakamoto</td>\n",
       "      <td>bitcoin</td>\n",
       "      <td>Satoshi Nakamoto is the presumed pseudonymous ...</td>\n",
       "      <td>e2c3c8b6a11344c29ba0d779e5262151</td>\n",
       "      <td>1</td>\n",
       "    </tr>\n",
       "    <tr>\n",
       "      <th>1</th>\n",
       "      <td>satoshi nakamoto</td>\n",
       "      <td>blockchain</td>\n",
       "      <td>Nakamoto devised the first blockchain database...</td>\n",
       "      <td>e2c3c8b6a11344c29ba0d779e5262151</td>\n",
       "      <td>1</td>\n",
       "    </tr>\n",
       "    <tr>\n",
       "      <th>2</th>\n",
       "      <td>satoshi nakamoto</td>\n",
       "      <td>bitcoin white paper</td>\n",
       "      <td>Nakamoto authored the bitcoin white paper.</td>\n",
       "      <td>e2c3c8b6a11344c29ba0d779e5262151</td>\n",
       "      <td>1</td>\n",
       "    </tr>\n",
       "    <tr>\n",
       "      <th>3</th>\n",
       "      <td>satoshi nakamoto</td>\n",
       "      <td>cryptocurrency</td>\n",
       "      <td>Nakamoto described bitcoin as a digital crypto...</td>\n",
       "      <td>e2c3c8b6a11344c29ba0d779e5262151</td>\n",
       "      <td>1</td>\n",
       "    </tr>\n",
       "    <tr>\n",
       "      <th>4</th>\n",
       "      <td>satoshi nakamoto</td>\n",
       "      <td>bitcoin software</td>\n",
       "      <td>Nakamoto released version 0.1 of the bitcoin s...</td>\n",
       "      <td>e2c3c8b6a11344c29ba0d779e5262151</td>\n",
       "      <td>1</td>\n",
       "    </tr>\n",
       "  </tbody>\n",
       "</table>\n",
       "</div>"
      ],
      "text/plain": [
       "             node_1               node_2  \\\n",
       "0  satoshi nakamoto              bitcoin   \n",
       "1  satoshi nakamoto           blockchain   \n",
       "2  satoshi nakamoto  bitcoin white paper   \n",
       "3  satoshi nakamoto       cryptocurrency   \n",
       "4  satoshi nakamoto     bitcoin software   \n",
       "\n",
       "                                                edge  \\\n",
       "0  Satoshi Nakamoto is the presumed pseudonymous ...   \n",
       "1  Nakamoto devised the first blockchain database...   \n",
       "2         Nakamoto authored the bitcoin white paper.   \n",
       "3  Nakamoto described bitcoin as a digital crypto...   \n",
       "4  Nakamoto released version 0.1 of the bitcoin s...   \n",
       "\n",
       "                           chunk_id  count  \n",
       "0  e2c3c8b6a11344c29ba0d779e5262151      1  \n",
       "1  e2c3c8b6a11344c29ba0d779e5262151      1  \n",
       "2  e2c3c8b6a11344c29ba0d779e5262151      1  \n",
       "3  e2c3c8b6a11344c29ba0d779e5262151      1  \n",
       "4  e2c3c8b6a11344c29ba0d779e5262151      1  "
      ]
     },
     "execution_count": 9,
     "metadata": {},
     "output_type": "execute_result"
    }
   ],
   "source": [
    "df1.head()"
   ]
  },
  {
   "cell_type": "markdown",
   "metadata": {},
   "source": [
    "# calculating contextual proximity "
   ]
  },
  {
   "cell_type": "code",
   "execution_count": 11,
   "metadata": {},
   "outputs": [
    {
     "data": {
      "text/html": [
       "<div>\n",
       "<style scoped>\n",
       "    .dataframe tbody tr th:only-of-type {\n",
       "        vertical-align: middle;\n",
       "    }\n",
       "\n",
       "    .dataframe tbody tr th {\n",
       "        vertical-align: top;\n",
       "    }\n",
       "\n",
       "    .dataframe thead th {\n",
       "        text-align: right;\n",
       "    }\n",
       "</style>\n",
       "<table border=\"1\" class=\"dataframe\">\n",
       "  <thead>\n",
       "    <tr style=\"text-align: right;\">\n",
       "      <th></th>\n",
       "      <th>node_1</th>\n",
       "      <th>node_2</th>\n",
       "      <th>chunk_id</th>\n",
       "      <th>count</th>\n",
       "      <th>edge</th>\n",
       "    </tr>\n",
       "  </thead>\n",
       "  <tbody>\n",
       "    <tr>\n",
       "      <th>399</th>\n",
       "      <td>wrights claim</td>\n",
       "      <td>joshua davis</td>\n",
       "      <td>0e943769f9954375ac961590d6f01d42,0e943769f9954...</td>\n",
       "      <td>2</td>\n",
       "      <td>contextual proximity</td>\n",
       "    </tr>\n",
       "    <tr>\n",
       "      <th>400</th>\n",
       "      <td>wrights claim</td>\n",
       "      <td>nakamoto</td>\n",
       "      <td>0e943769f9954375ac961590d6f01d42,0e943769f9954...</td>\n",
       "      <td>2</td>\n",
       "      <td>contextual proximity</td>\n",
       "    </tr>\n",
       "    <tr>\n",
       "      <th>401</th>\n",
       "      <td>wrights claim</td>\n",
       "      <td>nakamotos identity</td>\n",
       "      <td>0e943769f9954375ac961590d6f01d42,0e943769f9954...</td>\n",
       "      <td>2</td>\n",
       "      <td>contextual proximity</td>\n",
       "    </tr>\n",
       "    <tr>\n",
       "      <th>402</th>\n",
       "      <td>wrights claim</td>\n",
       "      <td>satoshi</td>\n",
       "      <td>0e943769f9954375ac961590d6f01d42,0e943769f9954...</td>\n",
       "      <td>2</td>\n",
       "      <td>contextual proximity</td>\n",
       "    </tr>\n",
       "    <tr>\n",
       "      <th>403</th>\n",
       "      <td>wrights claim</td>\n",
       "      <td>vili lehdonvirta</td>\n",
       "      <td>0e943769f9954375ac961590d6f01d42,0e943769f9954...</td>\n",
       "      <td>2</td>\n",
       "      <td>contextual proximity</td>\n",
       "    </tr>\n",
       "  </tbody>\n",
       "</table>\n",
       "</div>"
      ],
      "text/plain": [
       "            node_1              node_2  \\\n",
       "399  wrights claim        joshua davis   \n",
       "400  wrights claim            nakamoto   \n",
       "401  wrights claim  nakamotos identity   \n",
       "402  wrights claim             satoshi   \n",
       "403  wrights claim    vili lehdonvirta   \n",
       "\n",
       "                                              chunk_id  count  \\\n",
       "399  0e943769f9954375ac961590d6f01d42,0e943769f9954...      2   \n",
       "400  0e943769f9954375ac961590d6f01d42,0e943769f9954...      2   \n",
       "401  0e943769f9954375ac961590d6f01d42,0e943769f9954...      2   \n",
       "402  0e943769f9954375ac961590d6f01d42,0e943769f9954...      2   \n",
       "403  0e943769f9954375ac961590d6f01d42,0e943769f9954...      2   \n",
       "\n",
       "                     edge  \n",
       "399  contextual proximity  \n",
       "400  contextual proximity  \n",
       "401  contextual proximity  \n",
       "402  contextual proximity  \n",
       "403  contextual proximity  "
      ]
     },
     "execution_count": 11,
     "metadata": {},
     "output_type": "execute_result"
    }
   ],
   "source": [
    "def contextual_proximity(df: pd.DataFrame) -> pd.DataFrame:\n",
    "    ## Melt the dataframe into a list of nodes\n",
    "    dfg_long = pd.melt(\n",
    "        df, id_vars=[\"chunk_id\"], value_vars=[\"node_1\", \"node_2\"], value_name=\"node\"\n",
    "    )\n",
    "    dfg_long.drop(columns=[\"variable\"], inplace=True)\n",
    "    # Self join with chunk id as the key will create a link between terms occuring in the same text chunk.\n",
    "    dfg_wide = pd.merge(dfg_long, dfg_long, on=\"chunk_id\", suffixes=(\"_1\", \"_2\"))\n",
    "    # drop self loops\n",
    "    self_loops_drop = dfg_wide[dfg_wide[\"node_1\"] == dfg_wide[\"node_2\"]].index\n",
    "    dfg2 = dfg_wide.drop(index=self_loops_drop).reset_index(drop=True)\n",
    "    ## Group and count edges.\n",
    "    dfg2 = (\n",
    "        dfg2.groupby([\"node_1\", \"node_2\"])\n",
    "        .agg({\"chunk_id\": [\",\".join, \"count\"]})\n",
    "        .reset_index()\n",
    "    )\n",
    "    dfg2.columns = [\"node_1\", \"node_2\", \"chunk_id\", \"count\"]\n",
    "    dfg2.replace(\"\", np.nan, inplace=True)\n",
    "    dfg2.dropna(subset=[\"node_1\", \"node_2\"], inplace=True)\n",
    "    # Drop edges with 1 count\n",
    "    dfg2 = dfg2[dfg2[\"count\"] != 1]\n",
    "    dfg2[\"edge\"] = \"contextual proximity\"\n",
    "    return dfg2\n",
    "\n",
    "\n",
    "dfg2 = contextual_proximity(df1)\n",
    "dfg2.tail()"
   ]
  },
  {
   "cell_type": "markdown",
   "metadata": {},
   "source": [
    "## merge both dataframes "
   ]
  },
  {
   "cell_type": "code",
   "execution_count": 14,
   "metadata": {},
   "outputs": [
    {
     "data": {
      "text/html": [
       "<div>\n",
       "<style scoped>\n",
       "    .dataframe tbody tr th:only-of-type {\n",
       "        vertical-align: middle;\n",
       "    }\n",
       "\n",
       "    .dataframe tbody tr th {\n",
       "        vertical-align: top;\n",
       "    }\n",
       "\n",
       "    .dataframe thead th {\n",
       "        text-align: right;\n",
       "    }\n",
       "</style>\n",
       "<table border=\"1\" class=\"dataframe\">\n",
       "  <thead>\n",
       "    <tr style=\"text-align: right;\">\n",
       "      <th></th>\n",
       "      <th>node_1</th>\n",
       "      <th>node_2</th>\n",
       "      <th>chunk_id</th>\n",
       "      <th>edge</th>\n",
       "      <th>count</th>\n",
       "    </tr>\n",
       "  </thead>\n",
       "  <tbody>\n",
       "    <tr>\n",
       "      <th>0</th>\n",
       "      <td>abuse</td>\n",
       "      <td>impersonation</td>\n",
       "      <td>aff4c77faa724ec8a957060adb7fa536,aff4c77faa724...</td>\n",
       "      <td>contextual proximity</td>\n",
       "      <td>5</td>\n",
       "    </tr>\n",
       "    <tr>\n",
       "      <th>1</th>\n",
       "      <td>andresen</td>\n",
       "      <td>craig steven wright</td>\n",
       "      <td>309373f83d6e449cbb9ef0d00ad3c57d,309373f83d6e4...</td>\n",
       "      <td>contextual proximity</td>\n",
       "      <td>5</td>\n",
       "    </tr>\n",
       "    <tr>\n",
       "      <th>2</th>\n",
       "      <td>bitcoin</td>\n",
       "      <td>bitcoin software</td>\n",
       "      <td>096bf5845d6f4e24bea060700929a2eb,e2c3c8b6a1134...</td>\n",
       "      <td>contextual proximity</td>\n",
       "      <td>2</td>\n",
       "    </tr>\n",
       "    <tr>\n",
       "      <th>3</th>\n",
       "      <td>bitcoin</td>\n",
       "      <td>craig steven wright</td>\n",
       "      <td>309373f83d6e449cbb9ef0d00ad3c57d,309373f83d6e4...</td>\n",
       "      <td>contextual proximity</td>\n",
       "      <td>5</td>\n",
       "    </tr>\n",
       "    <tr>\n",
       "      <th>4</th>\n",
       "      <td>bitcoin</td>\n",
       "      <td>craig wright</td>\n",
       "      <td>ebc74a7a858e40bb830957b7e7cb5052,ebc74a7a858e4...</td>\n",
       "      <td>contextual proximity</td>\n",
       "      <td>2</td>\n",
       "    </tr>\n",
       "    <tr>\n",
       "      <th>...</th>\n",
       "      <td>...</td>\n",
       "      <td>...</td>\n",
       "      <td>...</td>\n",
       "      <td>...</td>\n",
       "      <td>...</td>\n",
       "    </tr>\n",
       "    <tr>\n",
       "      <th>179</th>\n",
       "      <td>wrights claim</td>\n",
       "      <td>joshua davis</td>\n",
       "      <td>0e943769f9954375ac961590d6f01d42,0e943769f9954...</td>\n",
       "      <td>contextual proximity</td>\n",
       "      <td>2</td>\n",
       "    </tr>\n",
       "    <tr>\n",
       "      <th>180</th>\n",
       "      <td>wrights claim</td>\n",
       "      <td>nakamoto</td>\n",
       "      <td>0e943769f9954375ac961590d6f01d42,0e943769f9954...</td>\n",
       "      <td>contextual proximity</td>\n",
       "      <td>2</td>\n",
       "    </tr>\n",
       "    <tr>\n",
       "      <th>181</th>\n",
       "      <td>wrights claim</td>\n",
       "      <td>nakamotos identity</td>\n",
       "      <td>0e943769f9954375ac961590d6f01d42,0e943769f9954...</td>\n",
       "      <td>contextual proximity</td>\n",
       "      <td>2</td>\n",
       "    </tr>\n",
       "    <tr>\n",
       "      <th>182</th>\n",
       "      <td>wrights claim</td>\n",
       "      <td>satoshi</td>\n",
       "      <td>0e943769f9954375ac961590d6f01d42,0e943769f9954...</td>\n",
       "      <td>Wrights claim to be Satoshi,contextual proximity</td>\n",
       "      <td>3</td>\n",
       "    </tr>\n",
       "    <tr>\n",
       "      <th>183</th>\n",
       "      <td>wrights claim</td>\n",
       "      <td>vili lehdonvirta</td>\n",
       "      <td>0e943769f9954375ac961590d6f01d42,0e943769f9954...</td>\n",
       "      <td>contextual proximity</td>\n",
       "      <td>2</td>\n",
       "    </tr>\n",
       "  </tbody>\n",
       "</table>\n",
       "<p>184 rows × 5 columns</p>\n",
       "</div>"
      ],
      "text/plain": [
       "            node_1               node_2  \\\n",
       "0            abuse        impersonation   \n",
       "1         andresen  craig steven wright   \n",
       "2          bitcoin     bitcoin software   \n",
       "3          bitcoin  craig steven wright   \n",
       "4          bitcoin         craig wright   \n",
       "..             ...                  ...   \n",
       "179  wrights claim         joshua davis   \n",
       "180  wrights claim             nakamoto   \n",
       "181  wrights claim   nakamotos identity   \n",
       "182  wrights claim              satoshi   \n",
       "183  wrights claim     vili lehdonvirta   \n",
       "\n",
       "                                              chunk_id  \\\n",
       "0    aff4c77faa724ec8a957060adb7fa536,aff4c77faa724...   \n",
       "1    309373f83d6e449cbb9ef0d00ad3c57d,309373f83d6e4...   \n",
       "2    096bf5845d6f4e24bea060700929a2eb,e2c3c8b6a1134...   \n",
       "3    309373f83d6e449cbb9ef0d00ad3c57d,309373f83d6e4...   \n",
       "4    ebc74a7a858e40bb830957b7e7cb5052,ebc74a7a858e4...   \n",
       "..                                                 ...   \n",
       "179  0e943769f9954375ac961590d6f01d42,0e943769f9954...   \n",
       "180  0e943769f9954375ac961590d6f01d42,0e943769f9954...   \n",
       "181  0e943769f9954375ac961590d6f01d42,0e943769f9954...   \n",
       "182  0e943769f9954375ac961590d6f01d42,0e943769f9954...   \n",
       "183  0e943769f9954375ac961590d6f01d42,0e943769f9954...   \n",
       "\n",
       "                                                 edge  count  \n",
       "0                                contextual proximity      5  \n",
       "1                                contextual proximity      5  \n",
       "2                                contextual proximity      2  \n",
       "3                                contextual proximity      5  \n",
       "4                                contextual proximity      2  \n",
       "..                                                ...    ...  \n",
       "179                              contextual proximity      2  \n",
       "180                              contextual proximity      2  \n",
       "181                              contextual proximity      2  \n",
       "182  Wrights claim to be Satoshi,contextual proximity      3  \n",
       "183                              contextual proximity      2  \n",
       "\n",
       "[184 rows x 5 columns]"
      ]
     },
     "execution_count": 14,
     "metadata": {},
     "output_type": "execute_result"
    }
   ],
   "source": [
    "dfg=pd.concat([df1,dfg2],axis=0)\n",
    "dfg=(\n",
    "    dfg.groupby(['node_1','node_2'])\n",
    "    .agg({'chunk_id':','.join,'edge':','.join,'count':'sum'})\n",
    "    .reset_index()\n",
    ")\n",
    "dfg"
   ]
  },
  {
   "cell_type": "markdown",
   "metadata": {},
   "source": [
    "# Calculate the networkX graph"
   ]
  },
  {
   "cell_type": "code",
   "execution_count": 17,
   "metadata": {},
   "outputs": [
    {
     "data": {
      "text/plain": [
       "(60,)"
      ]
     },
     "execution_count": 17,
     "metadata": {},
     "output_type": "execute_result"
    }
   ],
   "source": [
    "nodes = pd.concat([dfg['node_1'], dfg['node_2']], axis=0).unique()\n",
    "nodes.shape"
   ]
  },
  {
   "cell_type": "code",
   "execution_count": 18,
   "metadata": {},
   "outputs": [],
   "source": [
    "import networkx as nx\n",
    "G = nx.Graph()\n",
    "\n",
    "## Add nodes to the graph\n",
    "for node in nodes:\n",
    "    G.add_node(\n",
    "        str(node)\n",
    "    )\n",
    "\n",
    "## Add edges to the graph\n",
    "for index, row in dfg.iterrows():\n",
    "    G.add_edge(\n",
    "        str(row[\"node_1\"]),\n",
    "        str(row[\"node_2\"]),\n",
    "        title=row[\"edge\"],\n",
    "        weight=row['count']/4\n",
    "    )"
   ]
  },
  {
   "cell_type": "code",
   "execution_count": null,
   "metadata": {},
   "outputs": [],
   "source": []
  }
 ],
 "metadata": {
  "kernelspec": {
   "display_name": "pytorch",
   "language": "python",
   "name": "python3"
  },
  "language_info": {
   "codemirror_mode": {
    "name": "ipython",
    "version": 3
   },
   "file_extension": ".py",
   "mimetype": "text/x-python",
   "name": "python",
   "nbconvert_exporter": "python",
   "pygments_lexer": "ipython3",
   "version": "3.9.19"
  }
 },
 "nbformat": 4,
 "nbformat_minor": 2
}
