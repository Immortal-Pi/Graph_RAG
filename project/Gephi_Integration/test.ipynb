{
 "cells": [
  {
   "cell_type": "markdown",
   "metadata": {},
   "source": [
    "# test connection between gephi and python"
   ]
  },
  {
   "cell_type": "code",
   "execution_count": 9,
   "metadata": {},
   "outputs": [],
   "source": [
    "from gephistreamer import graph\n",
    "from gephistreamer import streamer\n"
   ]
  },
  {
   "cell_type": "code",
   "execution_count": 59,
   "metadata": {},
   "outputs": [],
   "source": [
    "stream = streamer.Streamer(streamer.GephiWS(hostname=\"localhost\", port=8080, workspace=\"workspace1\"))"
   ]
  },
  {
   "cell_type": "code",
   "execution_count": 66,
   "metadata": {},
   "outputs": [],
   "source": [
    "node_a = graph.Node(\"D\",custom_property=1)\n",
    "node_b = graph.Node(\"C\")\n",
    "node_b.property['custom_property']=1"
   ]
  },
  {
   "cell_type": "code",
   "execution_count": 67,
   "metadata": {},
   "outputs": [],
   "source": [
    "stream.add_node(node_a,node_b)"
   ]
  },
  {
   "cell_type": "code",
   "execution_count": 68,
   "metadata": {},
   "outputs": [],
   "source": [
    "edge_ab = graph.Edge(node_a,node_b,custom_property=\"hello\")\n",
    "stream.add_edge(edge_ab)\n"
   ]
  },
  {
   "cell_type": "code",
   "execution_count": 42,
   "metadata": {},
   "outputs": [],
   "source": [
    "# test connect to groq"
   ]
  },
  {
   "cell_type": "code",
   "execution_count": 43,
   "metadata": {},
   "outputs": [],
   "source": [
    "from langchain_groq import ChatGroq\n",
    "import dotenv \n",
    "import os \n",
    "\n",
    "dotenv.load_dotenv()\n",
    "\n",
    "llm=ChatGroq(\n",
    "    groq_api_key=os.getenv('GROQ_API_KEY'),\n",
    "    model_name=os.getenv('GROQ_MODEL')\n",
    ")"
   ]
  },
  {
   "cell_type": "code",
   "execution_count": 46,
   "metadata": {},
   "outputs": [
    {
     "name": "stdout",
     "output_type": "stream",
     "text": [
      "The meaning of life is a question that has puzzled philosophers, theologians, scientists, and everyday people for centuries. There's no one definitive answer, as it can vary greatly depending on cultural, personal, and philosophical perspectives. Here are some possible approaches to understanding the meaning of life:\n",
      "\n",
      "1. **Religious and spiritual perspectives**: Many religions provide their own answers to the meaning of life. For example, in Christianity, the meaning of life is often seen as serving God and fulfilling one's purpose as a child of God. In Buddhism, the meaning of life is to achieve enlightenment and end the cycle of suffering.\n",
      "2. **Philosophical perspectives**: Philosophers have offered various interpretations of the meaning of life. Existentialists like Jean-Paul Sartre and Martin Heidegger argue that life has no inherent meaning, and it's up to individuals to create their own purpose. Others, like Aristotle, believe that the meaning of life is to achieve happiness and fulfillment through living a virtuous life.\n",
      "3. **Scientific perspectives**: From a scientific standpoint, the meaning of life can be seen as the perpetuation of the species, the survival of the fittest, or the optimization of the human experience. Evolutionary biologists might argue that the meaning of life is to pass on one's genes to the next generation.\n",
      "4. **Personal perspectives**: Ultimately, the meaning of life may be a deeply personal and subjective question. Some people find meaning in their relationships, work, or creative pursuits. Others may find meaning in helping others, making a positive impact on the world, or pursuing their passions.\n",
      "5. **Humanistic perspectives**: Humanistic psychologists like Abraham Maslow and Carl Rogers argue that the meaning of life is to become the best version of oneself, to actualize one's potential, and to pursue self-actualization.\n",
      "\n",
      "While there's no one \"right\" answer to the question of the meaning of life, here are some common themes that emerge across these perspectives:\n",
      "\n",
      "* **Purpose**: Many people find meaning in life by having a sense of purpose, whether that's through work, relationships, or personal goals.\n",
      "* **Growth and self-improvement**: Pursuing personal growth, learning, and self-improvement can give life meaning and direction.\n",
      "* **Connection and relationships**: Building strong relationships with others can provide a sense of belonging and purpose.\n",
      "* **Contribution and impact**: Making a positive impact on the world, whether through work or volunteerism, can give life meaning and fulfillment.\n",
      "* **Enjoyment and happiness**: Pursuing happiness, joy, and contentment can make life more meaningful and fulfilling.\n",
      "\n",
      "Ultimately, the meaning of life is a question that each individual must answer for themselves, and it may evolve over time as they grow and change.\n",
      "\n",
      "What do you think is the meaning of life?\n"
     ]
    }
   ],
   "source": [
    "question='what is the meaning of life?'\n",
    "response=llm.predict(question)\n",
    "print(response)"
   ]
  },
  {
   "cell_type": "code",
   "execution_count": null,
   "metadata": {},
   "outputs": [],
   "source": []
  }
 ],
 "metadata": {
  "kernelspec": {
   "display_name": "genai",
   "language": "python",
   "name": "python3"
  },
  "language_info": {
   "codemirror_mode": {
    "name": "ipython",
    "version": 3
   },
   "file_extension": ".py",
   "mimetype": "text/x-python",
   "name": "python",
   "nbconvert_exporter": "python",
   "pygments_lexer": "ipython3",
   "version": "3.10.15"
  }
 },
 "nbformat": 4,
 "nbformat_minor": 2
}
