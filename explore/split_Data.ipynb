{
 "cells": [
  {
   "cell_type": "code",
   "execution_count": 1,
   "metadata": {},
   "outputs": [],
   "source": [
    "response=[Choice(finish_reason='stop', index=0, logprobs=None, message=ChatCompletionMessage(content='[\\n   {\\n       \"node_1\": \"Elon Reeve Musk\",\\n       \"node_2\": \"SpaceX\",\\n       \"edge\": \"Elon Musk has a key role in the space company SpaceX\"\\n   },\\n   {\\n       \"node_1\": \"Elon Reeve Musk\",\\n       \"node_2\": \"Tesla Inc\",\\n       \"edge\": \"Elon Musk has a key role in the automotive company Tesla Inc\"\\n   },\\n   {\\n       \"node_1\": \"Elon Reeve Musk\",\\n       \"node_2\": \"X Corp\",\\n       \"edge\": \"Elon Musk owns X Corp, the company that operates the social media platform X (formerly known as Twitter)\"\\n   },\\n   {\\n       \"node_1\": \"Elon Reeve Musk\",\\n       \"node_2\": \"Boring Company\",\\n       \"edge\": \"Elon Musk has a role in the founding of the Boring Company\"\\n   },\\n   {\\n       \"node_1\": \"Elon Reeve Musk\",\\n       \"node_2\": \"xAI\",\\n       \"edge\": \"Elon Musk has a role in the founding of xAI\"\\n   }\\n]', refusal=None, role='assistant', audio=None, function_call=None, tool_calls=None), content_filter_results={'hate': {'filtered': False, 'severity': 'safe'}, 'protected_material_code': {'filtered': False, 'detected': False}, 'protected_material_text': {'filtered': False, 'detected': False}, 'self_harm': {'filtered': False, 'severity': 'safe'}, 'sexual': {'filtered': False, 'severity': 'safe'}, 'violence': {'filtered': False, 'severity': 'safe'}})], created=1730165534, model='gpt-35-turbo', object='chat.completion', service_tier=None, system_fingerprint=None, usage=CompletionUsage(completion_tokens=240, prompt_tokens=919, total_tokens=1159, completion_tokens_details=None, prompt_tokens_details=None), prompt_filter_results=[{'prompt_index': 0, 'content_filter_results': {'hate': {'filtered': False, 'severity': 'safe'}, 'jailbreak': {'filtered': False, 'detected': False}, 'self_harm': {'filtered': False, 'severity': 'safe'}, 'sexual': {'filtered': False, 'severity': 'safe'}, 'violence': {'filtered': False, 'severity': 'safe'}}}])\n"
   ]
  },
  {
   "cell_type": "code",
   "execution_count": 2,
   "metadata": {},
   "outputs": [
    {
     "ename": "AttributeError",
     "evalue": "'str' object has no attribute 'choices'",
     "output_type": "error",
     "traceback": [
      "\u001b[1;31m---------------------------------------------------------------------------\u001b[0m",
      "\u001b[1;31mAttributeError\u001b[0m                            Traceback (most recent call last)",
      "Cell \u001b[1;32mIn[2], line 1\u001b[0m\n\u001b[1;32m----> 1\u001b[0m \u001b[38;5;28mprint\u001b[39m(\u001b[43mresponse\u001b[49m\u001b[38;5;241;43m.\u001b[39;49m\u001b[43mchoices\u001b[49m)\n",
      "\u001b[1;31mAttributeError\u001b[0m: 'str' object has no attribute 'choices'"
     ]
    }
   ],
   "source": [
    "print(response.choices)"
   ]
  },
  {
   "cell_type": "code",
   "execution_count": null,
   "metadata": {},
   "outputs": [],
   "source": []
  }
 ],
 "metadata": {
  "kernelspec": {
   "display_name": "pytorch",
   "language": "python",
   "name": "python3"
  },
  "language_info": {
   "codemirror_mode": {
    "name": "ipython",
    "version": 3
   },
   "file_extension": ".py",
   "mimetype": "text/x-python",
   "name": "python",
   "nbconvert_exporter": "python",
   "pygments_lexer": "ipython3",
   "version": "3.9.19"
  }
 },
 "nbformat": 4,
 "nbformat_minor": 2
}
