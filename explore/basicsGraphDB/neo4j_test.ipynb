{
 "cells": [
  {
   "cell_type": "markdown",
   "metadata": {},
   "source": [
    "# cypher query graphDB"
   ]
  },
  {
   "cell_type": "code",
   "execution_count": 1,
   "metadata": {},
   "outputs": [
    {
     "data": {
      "text/plain": [
       "True"
      ]
     },
     "execution_count": 1,
     "metadata": {},
     "output_type": "execute_result"
    }
   ],
   "source": [
    "#graphDB config\n",
    "import os\n",
    "import dotenv\n",
    "dotenv.load_dotenv()"
   ]
  },
  {
   "cell_type": "code",
   "execution_count": 2,
   "metadata": {},
   "outputs": [],
   "source": [
    "# import os\n",
    "# import dotenv\n",
    "\n",
    "# os.environ['NEO4J_URI']=os.getenv('NEO4J_URI')\n",
    "# os.environ['NEO4J_USERNAME']=os.getenv('NEO4J_USERNAME')\n",
    "# os.environ['NEO4J_PASSWORD']=os.getenv('NEO4J_PASSWORD')"
   ]
  },
  {
   "cell_type": "code",
   "execution_count": 3,
   "metadata": {},
   "outputs": [],
   "source": [
    "from langchain_community.graphs import Neo4jGraph\n",
    "graph=Neo4jGraph(url=os.getenv('NEO4J_URI_ONLINE'),\n",
    "                 username=os.getenv('NEO4J_USERNAME_ONLINE'),\n",
    "                 password=os.getenv('NEO4J_PASSWORD_ONLINE')\n",
    "                #  database=os.getenv('NEO4J_DATABASE')\n",
    "                 )"
   ]
  },
  {
   "cell_type": "code",
   "execution_count": 4,
   "metadata": {},
   "outputs": [],
   "source": [
    "dotenv.load_dotenv()\n",
    "groq_api_key=os.getenv('GROQ_API_KEY')\n"
   ]
  },
  {
   "cell_type": "code",
   "execution_count": 5,
   "metadata": {},
   "outputs": [],
   "source": [
    "# ! pip install langchain_openai"
   ]
  },
  {
   "cell_type": "code",
   "execution_count": 6,
   "metadata": {},
   "outputs": [
    {
     "data": {
      "text/plain": [
       "AzureChatOpenAI(client=<openai.resources.chat.completions.Completions object at 0x0000016EC2ADC5B0>, async_client=<openai.resources.chat.completions.AsyncCompletions object at 0x0000016EC2AFE730>, root_client=<openai.lib.azure.AzureOpenAI object at 0x0000016EBBFB1130>, root_async_client=<openai.lib.azure.AsyncAzureOpenAI object at 0x0000016EC2ADC610>, temperature=0.1, model_kwargs={}, openai_api_key=SecretStr('**********'), disabled_params={'parallel_tool_calls': None}, azure_endpoint='https://easttest123.openai.azure.com/openai/deployments/gpt-35-turbo/chat/completions?api-version=2023-03-15-preview', deployment_name='gpt-35-turbo', openai_api_version='2024-02-15-preview', openai_api_type='azure')"
      ]
     },
     "execution_count": 6,
     "metadata": {},
     "output_type": "execute_result"
    }
   ],
   "source": [
    "from langchain_groq import ChatGroq\n",
    "from langchain_openai import AzureChatOpenAI\n",
    "# llm=ChatGroq(\n",
    "#     groq_api_key=groq_api_key,\n",
    "#     model_name='Gemma2-9b-it'\n",
    "#     )\n",
    "llm=AzureChatOpenAI(o\n",
    "    azure_deployment=s.getenv('AZURE_OPENAI_DEPLOYMENT_MODEL'),\n",
    "    api_version=os.getenv('AZURE_OpenAI_API_VERSION'),\n",
    "    temperature=0.1,\n",
    "\n",
    ")\n",
    "llm"
   ]
  },
  {
   "cell_type": "code",
   "execution_count": 7,
   "metadata": {},
   "outputs": [
    {
     "data": {
      "text/plain": [
       "[Document(metadata={}, page_content='\\nElon Reeve Musk(born June 28, 1971) is a businessman and investor known \\nfor his key roles in the space company SpaceX and the automotive company \\nTesla, Inc. Other involvements include ownership of X Corp., the company \\nthat operates the social media platform X (formerly known as Twitter), \\nand his role in the founding of the Boring Company, xAI, Neuralink, and OpenAI. \\nHe is one of the wealthiest individuals in the world; as of August 2024 \\nForbes estimates his net worth to be US$247 billion. Musk was born in Pretoria, \\nSouth Africa, to Maye (née Haldeman), a model, and Errol Musk, a businessman \\nand engineer. Musk briefly attended the University of Pretoria before immigrating \\nto Canada at the age of 18, acquiring citizenship through his Canadian-born mother. \\n')]"
      ]
     },
     "execution_count": 7,
     "metadata": {},
     "output_type": "execute_result"
    }
   ],
   "source": [
    "from langchain_core.documents import Document\n",
    "text=\"\"\"\n",
    "Elon Reeve Musk(born June 28, 1971) is a businessman and investor known \n",
    "for his key roles in the space company SpaceX and the automotive company \n",
    "Tesla, Inc. Other involvements include ownership of X Corp., the company \n",
    "that operates the social media platform X (formerly known as Twitter), \n",
    "and his role in the founding of the Boring Company, xAI, Neuralink, and OpenAI. \n",
    "He is one of the wealthiest individuals in the world; as of August 2024 \n",
    "Forbes estimates his net worth to be US$247 billion. Musk was born in Pretoria, \n",
    "South Africa, to Maye (née Haldeman), a model, and Errol Musk, a businessman \n",
    "and engineer. Musk briefly attended the University of Pretoria before immigrating \n",
    "to Canada at the age of 18, acquiring citizenship through his Canadian-born mother. \n",
    "\"\"\"\n",
    "documents=[Document(page_content=text)]\n",
    "documents"
   ]
  },
  {
   "cell_type": "code",
   "execution_count": 8,
   "metadata": {},
   "outputs": [],
   "source": [
    "from langchain_experimental.graph_transformers import LLMGraphTransformer\n",
    "llm_transformer=LLMGraphTransformer(llm=llm)"
   ]
  },
  {
   "cell_type": "code",
   "execution_count": 9,
   "metadata": {},
   "outputs": [],
   "source": [
    "graph_documents=llm_transformer.convert_to_graph_documents(documents)"
   ]
  },
  {
   "cell_type": "code",
   "execution_count": 10,
   "metadata": {},
   "outputs": [
    {
     "data": {
      "text/plain": [
       "[GraphDocument(nodes=[Node(id='Elon Reeve Musk', type='Person', properties={}), Node(id='Spacex', type='Company', properties={}), Node(id='Tesla, Inc.', type='Company', properties={}), Node(id='X Corp.', type='Company', properties={}), Node(id='X', type='Social media platform', properties={}), Node(id='Twitter', type='Social media platform', properties={}), Node(id='Boring Company', type='Company', properties={}), Node(id='Xai', type='Company', properties={}), Node(id='Neuralink', type='Company', properties={}), Node(id='Openai', type='Company', properties={}), Node(id='Pretoria', type='City', properties={}), Node(id='South Africa', type='Country', properties={}), Node(id='Maye Haldeman', type='Person', properties={}), Node(id='Errol Musk', type='Person', properties={}), Node(id='University Of Pretoria', type='University', properties={}), Node(id='Canada', type='Country', properties={})], relationships=[Relationship(source=Node(id='Elon Reeve Musk', type='Person', properties={}), target=Node(id='Spacex', type='Company', properties={}), type='KEY_ROLE', properties={}), Relationship(source=Node(id='Elon Reeve Musk', type='Person', properties={}), target=Node(id='Tesla, Inc.', type='Company', properties={}), type='KEY_ROLE', properties={}), Relationship(source=Node(id='Elon Reeve Musk', type='Person', properties={}), target=Node(id='X Corp.', type='Company', properties={}), type='OWNERSHIP', properties={}), Relationship(source=Node(id='X Corp.', type='Company', properties={}), target=Node(id='X', type='Social media platform', properties={}), type='OPERATES', properties={}), Relationship(source=Node(id='X Corp.', type='Company', properties={}), target=Node(id='Twitter', type='Social media platform', properties={}), type='OPERATES', properties={}), Relationship(source=Node(id='Elon Reeve Musk', type='Person', properties={}), target=Node(id='Boring Company', type='Company', properties={}), type='FOUNDING', properties={}), Relationship(source=Node(id='Elon Reeve Musk', type='Person', properties={}), target=Node(id='Xai', type='Company', properties={}), type='FOUNDING', properties={}), Relationship(source=Node(id='Elon Reeve Musk', type='Person', properties={}), target=Node(id='Neuralink', type='Company', properties={}), type='FOUNDING', properties={}), Relationship(source=Node(id='Elon Reeve Musk', type='Person', properties={}), target=Node(id='Openai', type='Company', properties={}), type='FOUNDING', properties={}), Relationship(source=Node(id='Elon Reeve Musk', type='Person', properties={}), target=Node(id='Pretoria', type='City', properties={}), type='BIRTH_PLACE', properties={}), Relationship(source=Node(id='Elon Reeve Musk', type='Person', properties={}), target=Node(id='South Africa', type='Country', properties={}), type='BIRTH_COUNTRY', properties={}), Relationship(source=Node(id='Elon Reeve Musk', type='Person', properties={}), target=Node(id='Maye Haldeman', type='Person', properties={}), type='MOTHER', properties={}), Relationship(source=Node(id='Elon Reeve Musk', type='Person', properties={}), target=Node(id='Errol Musk', type='Person', properties={}), type='FATHER', properties={}), Relationship(source=Node(id='Elon Reeve Musk', type='Person', properties={}), target=Node(id='University Of Pretoria', type='University', properties={}), type='EDUCATION', properties={}), Relationship(source=Node(id='Elon Reeve Musk', type='Person', properties={}), target=Node(id='Canada', type='Country', properties={}), type='IMMIGRATION', properties={})], source=Document(metadata={}, page_content='\\nElon Reeve Musk(born June 28, 1971) is a businessman and investor known \\nfor his key roles in the space company SpaceX and the automotive company \\nTesla, Inc. Other involvements include ownership of X Corp., the company \\nthat operates the social media platform X (formerly known as Twitter), \\nand his role in the founding of the Boring Company, xAI, Neuralink, and OpenAI. \\nHe is one of the wealthiest individuals in the world; as of August 2024 \\nForbes estimates his net worth to be US$247 billion. Musk was born in Pretoria, \\nSouth Africa, to Maye (née Haldeman), a model, and Errol Musk, a businessman \\nand engineer. Musk briefly attended the University of Pretoria before immigrating \\nto Canada at the age of 18, acquiring citizenship through his Canadian-born mother. \\n'))]"
      ]
     },
     "execution_count": 10,
     "metadata": {},
     "output_type": "execute_result"
    }
   ],
   "source": [
    "graph_documents"
   ]
  },
  {
   "cell_type": "code",
   "execution_count": 11,
   "metadata": {},
   "outputs": [
    {
     "data": {
      "text/plain": [
       "[Node(id='Elon Reeve Musk', type='Person', properties={}),\n",
       " Node(id='Spacex', type='Company', properties={}),\n",
       " Node(id='Tesla, Inc.', type='Company', properties={}),\n",
       " Node(id='X Corp.', type='Company', properties={}),\n",
       " Node(id='X', type='Social media platform', properties={}),\n",
       " Node(id='Twitter', type='Social media platform', properties={}),\n",
       " Node(id='Boring Company', type='Company', properties={}),\n",
       " Node(id='Xai', type='Company', properties={}),\n",
       " Node(id='Neuralink', type='Company', properties={}),\n",
       " Node(id='Openai', type='Company', properties={}),\n",
       " Node(id='Pretoria', type='City', properties={}),\n",
       " Node(id='South Africa', type='Country', properties={}),\n",
       " Node(id='Maye Haldeman', type='Person', properties={}),\n",
       " Node(id='Errol Musk', type='Person', properties={}),\n",
       " Node(id='University Of Pretoria', type='University', properties={}),\n",
       " Node(id='Canada', type='Country', properties={})]"
      ]
     },
     "execution_count": 11,
     "metadata": {},
     "output_type": "execute_result"
    }
   ],
   "source": [
    "graph_documents[0].nodes"
   ]
  },
  {
   "cell_type": "code",
   "execution_count": 12,
   "metadata": {},
   "outputs": [
    {
     "data": {
      "text/plain": [
       "[Relationship(source=Node(id='Elon Reeve Musk', type='Person', properties={}), target=Node(id='Spacex', type='Company', properties={}), type='KEY_ROLE', properties={}),\n",
       " Relationship(source=Node(id='Elon Reeve Musk', type='Person', properties={}), target=Node(id='Tesla, Inc.', type='Company', properties={}), type='KEY_ROLE', properties={}),\n",
       " Relationship(source=Node(id='Elon Reeve Musk', type='Person', properties={}), target=Node(id='X Corp.', type='Company', properties={}), type='OWNERSHIP', properties={}),\n",
       " Relationship(source=Node(id='X Corp.', type='Company', properties={}), target=Node(id='X', type='Social media platform', properties={}), type='OPERATES', properties={}),\n",
       " Relationship(source=Node(id='X Corp.', type='Company', properties={}), target=Node(id='Twitter', type='Social media platform', properties={}), type='OPERATES', properties={}),\n",
       " Relationship(source=Node(id='Elon Reeve Musk', type='Person', properties={}), target=Node(id='Boring Company', type='Company', properties={}), type='FOUNDING', properties={}),\n",
       " Relationship(source=Node(id='Elon Reeve Musk', type='Person', properties={}), target=Node(id='Xai', type='Company', properties={}), type='FOUNDING', properties={}),\n",
       " Relationship(source=Node(id='Elon Reeve Musk', type='Person', properties={}), target=Node(id='Neuralink', type='Company', properties={}), type='FOUNDING', properties={}),\n",
       " Relationship(source=Node(id='Elon Reeve Musk', type='Person', properties={}), target=Node(id='Openai', type='Company', properties={}), type='FOUNDING', properties={}),\n",
       " Relationship(source=Node(id='Elon Reeve Musk', type='Person', properties={}), target=Node(id='Pretoria', type='City', properties={}), type='BIRTH_PLACE', properties={}),\n",
       " Relationship(source=Node(id='Elon Reeve Musk', type='Person', properties={}), target=Node(id='South Africa', type='Country', properties={}), type='BIRTH_COUNTRY', properties={}),\n",
       " Relationship(source=Node(id='Elon Reeve Musk', type='Person', properties={}), target=Node(id='Maye Haldeman', type='Person', properties={}), type='MOTHER', properties={}),\n",
       " Relationship(source=Node(id='Elon Reeve Musk', type='Person', properties={}), target=Node(id='Errol Musk', type='Person', properties={}), type='FATHER', properties={}),\n",
       " Relationship(source=Node(id='Elon Reeve Musk', type='Person', properties={}), target=Node(id='University Of Pretoria', type='University', properties={}), type='EDUCATION', properties={}),\n",
       " Relationship(source=Node(id='Elon Reeve Musk', type='Person', properties={}), target=Node(id='Canada', type='Country', properties={}), type='IMMIGRATION', properties={})]"
      ]
     },
     "execution_count": 12,
     "metadata": {},
     "output_type": "execute_result"
    }
   ],
   "source": [
    "graph_documents[0].relationships"
   ]
  },
  {
   "cell_type": "markdown",
   "metadata": {},
   "source": [
    "# load dataset to graphDB and generating cypher queries"
   ]
  },
  {
   "cell_type": "code",
   "execution_count": 13,
   "metadata": {},
   "outputs": [],
   "source": [
    "# load the movie dataset \n",
    "\n",
    "movie_query=\"\"\" \n",
    "LOAD CSV WITH HEADERS FROM\n",
    "'https://raw.githubusercontent.com/tomasonjo/blog-datasets/main/movies/movies_small.csv' as row\n",
    "\n",
    "MERGE(m:Movie{id:row.movieId})\n",
    "SET m.released=date(row.released),\n",
    "    m.title=row.title,\n",
    "    m.imdbRating=tofloat(row.imdbRating)\n",
    "FOREACH (director in split(row.director,'|')|\n",
    "    MERGE (p:Person {name:trim(director)})\n",
    "    MERGE (p)-[:DIRECTED]-> (m)\n",
    "         )\n",
    "FOREACH (actor in split(row.actors,'|')|\n",
    "    MERGE (p:Person {name:trim(actor)})\n",
    "    MERGE (p)-[:ACTED_IN]-> (m)\n",
    "        )\n",
    "FOREACH (genre in split(row.genres,'|')|\n",
    "    MERGE (g:Genre {name:trim(genre)})\n",
    "    MERGE (m)-[:IN_GENRE]->(g)\n",
    "        )\n",
    "\n",
    "\"\"\""
   ]
  },
  {
   "cell_type": "code",
   "execution_count": 14,
   "metadata": {},
   "outputs": [
    {
     "data": {
      "text/plain": [
       "<langchain_community.graphs.neo4j_graph.Neo4jGraph at 0x16ebc08ee50>"
      ]
     },
     "execution_count": 14,
     "metadata": {},
     "output_type": "execute_result"
    }
   ],
   "source": [
    "graph"
   ]
  },
  {
   "cell_type": "code",
   "execution_count": 15,
   "metadata": {},
   "outputs": [
    {
     "data": {
      "text/plain": [
       "[]"
      ]
     },
     "execution_count": 15,
     "metadata": {},
     "output_type": "execute_result"
    }
   ],
   "source": [
    "# insert records \n",
    "graph.query(movie_query)"
   ]
  },
  {
   "cell_type": "code",
   "execution_count": 16,
   "metadata": {},
   "outputs": [
    {
     "name": "stdout",
     "output_type": "stream",
     "text": [
      "Node properties:\n",
      "Movie {id: STRING, released: DATE, title: STRING, imdbRating: FLOAT}\n",
      "Person {name: STRING}\n",
      "Genre {name: STRING}\n",
      "Relationship properties:\n",
      "\n",
      "The relationships:\n",
      "(:Movie)-[:IN_GENRE]->(:Genre)\n",
      "(:Person)-[:DIRECTED]->(:Movie)\n",
      "(:Person)-[:ACTED_IN]->(:Movie)\n"
     ]
    }
   ],
   "source": [
    "graph.refresh_schema()\n",
    "print(graph.schema)"
   ]
  },
  {
   "cell_type": "markdown",
   "metadata": {},
   "source": [
    "# create cypher query using llm model"
   ]
  },
  {
   "cell_type": "code",
   "execution_count": 17,
   "metadata": {},
   "outputs": [
    {
     "data": {
      "text/plain": [
       "GraphCypherQAChain(verbose=True, graph=<langchain_community.graphs.neo4j_graph.Neo4jGraph object at 0x0000016EBC08EE50>, cypher_generation_chain=LLMChain(verbose=False, prompt=PromptTemplate(input_variables=['question', 'schema'], input_types={}, partial_variables={}, template='Task:Generate Cypher statement to query a graph database.\\nInstructions:\\nUse only the provided relationship types and properties in the schema.\\nDo not use any other relationship types or properties that are not provided.\\nSchema:\\n{schema}\\nNote: Do not include any explanations or apologies in your responses.\\nDo not respond to any questions that might ask anything else than for you to construct a Cypher statement.\\nDo not include any text except the generated Cypher statement.\\n\\nThe question is:\\n{question}'), llm=AzureChatOpenAI(client=<openai.resources.chat.completions.Completions object at 0x0000016EC2ADC5B0>, async_client=<openai.resources.chat.completions.AsyncCompletions object at 0x0000016EC2AFE730>, root_client=<openai.lib.azure.AzureOpenAI object at 0x0000016EBBFB1130>, root_async_client=<openai.lib.azure.AsyncAzureOpenAI object at 0x0000016EC2ADC610>, temperature=0.1, model_kwargs={}, openai_api_key=SecretStr('**********'), disabled_params={'parallel_tool_calls': None}, azure_endpoint='https://easttest123.openai.azure.com/openai/deployments/gpt-35-turbo/chat/completions?api-version=2023-03-15-preview', deployment_name='gpt-35-turbo', openai_api_version='2024-02-15-preview', openai_api_type='azure'), output_parser=StrOutputParser(), llm_kwargs={}), qa_chain=LLMChain(verbose=False, prompt=PromptTemplate(input_variables=['context', 'question'], input_types={}, partial_variables={}, template=\"You are an assistant that helps to form nice and human understandable answers.\\nThe information part contains the provided information that you must use to construct an answer.\\nThe provided information is authoritative, you must never doubt it or try to use your internal knowledge to correct it.\\nMake the answer sound as a response to the question. Do not mention that you based the result on the given information.\\nHere is an example:\\n\\nQuestion: Which managers own Neo4j stocks?\\nContext:[manager:CTL LLC, manager:JANE STREET GROUP LLC]\\nHelpful Answer: CTL LLC, JANE STREET GROUP LLC owns Neo4j stocks.\\n\\nFollow this example when generating answers.\\nIf the provided information is empty, say that you don't know the answer.\\nInformation:\\n{context}\\n\\nQuestion: {question}\\nHelpful Answer:\"), llm=AzureChatOpenAI(client=<openai.resources.chat.completions.Completions object at 0x0000016EC2ADC5B0>, async_client=<openai.resources.chat.completions.AsyncCompletions object at 0x0000016EC2AFE730>, root_client=<openai.lib.azure.AzureOpenAI object at 0x0000016EBBFB1130>, root_async_client=<openai.lib.azure.AsyncAzureOpenAI object at 0x0000016EC2ADC610>, temperature=0.1, model_kwargs={}, openai_api_key=SecretStr('**********'), disabled_params={'parallel_tool_calls': None}, azure_endpoint='https://easttest123.openai.azure.com/openai/deployments/gpt-35-turbo/chat/completions?api-version=2023-03-15-preview', deployment_name='gpt-35-turbo', openai_api_version='2024-02-15-preview', openai_api_type='azure'), output_parser=StrOutputParser(), llm_kwargs={}), graph_schema='Node properties are the following:\\nMovie {id: STRING, released: DATE, title: STRING, imdbRating: FLOAT},Person {name: STRING},Genre {name: STRING}\\nRelationship properties are the following:\\n\\nThe relationships are the following:\\n(:Movie)-[:IN_GENRE]->(:Genre),(:Person)-[:DIRECTED]->(:Movie),(:Person)-[:ACTED_IN]->(:Movie)', allow_dangerous_requests=True)"
      ]
     },
     "execution_count": 17,
     "metadata": {},
     "output_type": "execute_result"
    }
   ],
   "source": [
    "from langchain.chains import GraphCypherQAChain\n",
    "chain=GraphCypherQAChain.from_llm(llm=llm,graph=graph,verbose=True,allow_dangerous_requests=True)\n",
    "chain"
   ]
  },
  {
   "cell_type": "code",
   "execution_count": 18,
   "metadata": {},
   "outputs": [
    {
     "name": "stdout",
     "output_type": "stream",
     "text": [
      "\n",
      "\n",
      "\u001b[1m> Entering new GraphCypherQAChain chain...\u001b[0m\n",
      "Generated Cypher:\n",
      "\u001b[32;1m\u001b[1;3mMATCH (p:Person)-[:ACTED_IN]->(m:Movie)\n",
      "WHERE m.imdbRating > 5\n",
      "RETURN p.name, m.title\u001b[0m\n",
      "Full Context:\n",
      "\u001b[32;1m\u001b[1;3m[{'p.name': 'Jim Varney', 'm.title': 'Toy Story'}, {'p.name': 'Tim Allen', 'm.title': 'Toy Story'}, {'p.name': 'Tom Hanks', 'm.title': 'Toy Story'}, {'p.name': 'Don Rickles', 'm.title': 'Toy Story'}, {'p.name': 'Robin Williams', 'm.title': 'Jumanji'}, {'p.name': 'Bradley Pierce', 'm.title': 'Jumanji'}, {'p.name': 'Kirsten Dunst', 'm.title': 'Jumanji'}, {'p.name': 'Jonathan Hyde', 'm.title': 'Jumanji'}, {'p.name': 'Walter Matthau', 'm.title': 'Grumpier Old Men'}, {'p.name': 'Ann-Margret', 'm.title': 'Grumpier Old Men'}]\u001b[0m\n",
      "\n",
      "\u001b[1m> Finished chain.\u001b[0m\n"
     ]
    },
    {
     "data": {
      "text/plain": [
       "{'query': 'give me the names of actors and movies whose movies have imdb rating greater than 5',\n",
       " 'result': 'The actors and movies with IMDb ratings greater than 5 are:\\n- Jim Varney in Toy Story\\n- Tim Allen in Toy Story\\n- Tom Hanks in Toy Story\\n- Don Rickles in Toy Story\\n- Robin Williams in Jumanji\\n- Bradley Pierce in Jumanji\\n- Kirsten Dunst in Jumanji\\n- Jonathan Hyde in Jumanji\\n- Walter Matthau in Grumpier Old Men\\n- Ann-Margret in Grumpier Old Men'}"
      ]
     },
     "execution_count": 18,
     "metadata": {},
     "output_type": "execute_result"
    }
   ],
   "source": [
    "response=chain.invoke({'query':'give me the names of actors and movies whose movies have imdb rating greater than 5'})\n",
    "response"
   ]
  },
  {
   "cell_type": "code",
   "execution_count": null,
   "metadata": {},
   "outputs": [],
   "source": []
  }
 ],
 "metadata": {
  "kernelspec": {
   "display_name": "pytorch",
   "language": "python",
   "name": "python3"
  },
  "language_info": {
   "codemirror_mode": {
    "name": "ipython",
    "version": 3
   },
   "file_extension": ".py",
   "mimetype": "text/x-python",
   "name": "python",
   "nbconvert_exporter": "python",
   "pygments_lexer": "ipython3",
   "version": "3.9.19"
  }
 },
 "nbformat": 4,
 "nbformat_minor": 2
}
